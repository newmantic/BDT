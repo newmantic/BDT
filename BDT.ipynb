{
  "nbformat": 4,
  "nbformat_minor": 0,
  "metadata": {
    "colab": {
      "provenance": [],
      "authorship_tag": "ABX9TyOrNlpVb9vvUtkpsD0LtWMu",
      "include_colab_link": true
    },
    "kernelspec": {
      "name": "python3",
      "display_name": "Python 3"
    },
    "language_info": {
      "name": "python"
    }
  },
  "cells": [
    {
      "cell_type": "markdown",
      "metadata": {
        "id": "view-in-github",
        "colab_type": "text"
      },
      "source": [
        "<a href=\"https://colab.research.google.com/github/newmantic/BDT/blob/main/BDT.ipynb\" target=\"_parent\"><img src=\"https://colab.research.google.com/assets/colab-badge.svg\" alt=\"Open In Colab\"/></a>"
      ]
    },
    {
      "cell_type": "code",
      "execution_count": 2,
      "metadata": {
        "id": "-gYbb0K9kNwl"
      },
      "outputs": [],
      "source": [
        "import numpy as np\n",
        "\n",
        "def generate_bdt_tree(volatility, forward_rates, time_steps):\n",
        "    \"\"\"\n",
        "    Generate the Black-Derman-Toy tree for short rates.\n",
        "\n",
        "    Args:\n",
        "        volatility (float): Volatility of the short rate.\n",
        "        forward_rates (list): List of forward rates for each time step.\n",
        "        time_steps (int): Number of time steps in the tree.\n",
        "\n",
        "    Returns:\n",
        "        np.ndarray: A 2D array representing the BDT tree for short rates.\n",
        "    \"\"\"\n",
        "    # Initialize the tree\n",
        "    short_rate_tree = np.zeros((time_steps, time_steps))\n",
        "\n",
        "    # Set the first node in the tree to the first forward rate\n",
        "    short_rate_tree[0, 0] = forward_rates[0]\n",
        "\n",
        "    # Populate the tree using the BDT model formula\n",
        "    for i in range(1, time_steps):\n",
        "        for j in range(i + 1):\n",
        "            short_rate_tree[i, j] = forward_rates[i] * np.exp(-volatility * (i - 2 * j) * np.sqrt(1 / i))\n",
        "\n",
        "    return short_rate_tree"
      ]
    },
    {
      "cell_type": "code",
      "source": [
        "def price_bond_bdt(face_value, coupon_rate, time_steps, short_rate_tree):\n",
        "    \"\"\"\n",
        "    Price a bond using the Black-Derman-Toy model.\n",
        "\n",
        "    Args:\n",
        "        face_value (float): The face value of the bond.\n",
        "        coupon_rate (float): The annual coupon rate of the bond.\n",
        "        time_steps (int): Number of time steps in the BDT tree.\n",
        "        short_rate_tree (np.ndarray): The BDT tree for short rates.\n",
        "\n",
        "    Returns:\n",
        "        float: The price of the bond.\n",
        "    \"\"\"\n",
        "    # Initialize bond prices at maturity\n",
        "    bond_prices = np.zeros((time_steps, time_steps))\n",
        "    bond_prices[-1, :] = face_value + (coupon_rate * face_value)\n",
        "\n",
        "    # Backward induction to calculate the bond price at each node\n",
        "    for i in range(time_steps - 2, -1, -1):\n",
        "        for j in range(i + 1):\n",
        "            discount_factor = np.exp(-short_rate_tree[i, j])\n",
        "            bond_prices[i, j] = (coupon_rate * face_value + 0.5 * (bond_prices[i + 1, j] + bond_prices[i + 1, j + 1])) * discount_factor\n",
        "\n",
        "    return bond_prices[0, 0]"
      ],
      "metadata": {
        "id": "XNUv7SxNkyR1"
      },
      "execution_count": 3,
      "outputs": []
    },
    {
      "cell_type": "code",
      "source": [
        "# Example inputs\n",
        "volatility = 0.01\n",
        "forward_rates = [0.03, 0.032, 0.034, 0.036, 0.038]\n",
        "time_steps = len(forward_rates)\n",
        "\n",
        "# Generate the BDT tree\n",
        "bdt_tree = generate_bdt_tree(volatility, forward_rates, time_steps)\n",
        "print(\"BDT Short Rate Tree:\")\n",
        "print(bdt_tree)"
      ],
      "metadata": {
        "colab": {
          "base_uri": "https://localhost:8080/"
        },
        "id": "QBbNBQSBk2Ks",
        "outputId": "1a7de945-47e6-417f-b0b2-283dcbba2859"
      },
      "execution_count": 4,
      "outputs": [
        {
          "output_type": "stream",
          "name": "stdout",
          "text": [
            "BDT Short Rate Tree:\n",
            "[[0.03       0.         0.         0.         0.        ]\n",
            " [0.03168159 0.03232161 0.         0.         0.        ]\n",
            " [0.03352255 0.034      0.03448425 0.         0.        ]\n",
            " [0.03538183 0.03579275 0.03620845 0.03662897 0.        ]\n",
            " [0.03724755 0.03762189 0.038      0.03838191 0.03876765]]\n"
          ]
        }
      ]
    },
    {
      "cell_type": "code",
      "source": [
        "# Example bond pricing inputs\n",
        "face_value = 1000\n",
        "coupon_rate = 0.05\n",
        "time_steps = 5\n",
        "\n",
        "# Use the previously generated BDT tree\n",
        "bond_price = price_bond_bdt(face_value, coupon_rate, time_steps, bdt_tree)\n",
        "print(f\"Price of the Bond: {bond_price:.2f}\")"
      ],
      "metadata": {
        "colab": {
          "base_uri": "https://localhost:8080/"
        },
        "id": "z1qafdPXk6HY",
        "outputId": "3410d829-8ae0-4e9f-bcf2-7bf6de59c9f2"
      },
      "execution_count": 5,
      "outputs": [
        {
          "output_type": "stream",
          "name": "stdout",
          "text": [
            "Price of the Bond: 1104.91\n"
          ]
        }
      ]
    }
  ]
}